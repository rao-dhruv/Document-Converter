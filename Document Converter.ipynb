{
 "cells": [
  {
   "cell_type": "markdown",
   "id": "4f4816fd-b6d4-4173-9547-4f6006546e37",
   "metadata": {},
   "source": [
    "pip install pdf2docx"
   ]
  },
  {
   "cell_type": "code",
   "execution_count": 6,
   "id": "35e9286f-5f7b-4fde-9211-8477a0416148",
   "metadata": {},
   "outputs": [
    {
     "name": "stderr",
     "output_type": "stream",
     "text": [
      "[INFO] Start to convert /Users/dhruvrao/Downloads/Invoice-E1BC36E9-0001.pdf\n",
      "[INFO] \u001b[1;36m[1/4] Opening document...\u001b[0m\n",
      "[INFO] \u001b[1;36m[2/4] Analyzing document...\u001b[0m\n",
      "[INFO] \u001b[1;36m[3/4] Parsing pages...\u001b[0m\n",
      "[INFO] (1/1) Page 1\n",
      "[INFO] \u001b[1;36m[4/4] Creating pages...\u001b[0m\n",
      "[INFO] (1/1) Page 1\n",
      "[ERROR] Ignore page 1 due to making page error: invalid literal for int() with base 16: 'x1'\n",
      "[INFO] Terminated in 0.14s.\n"
     ]
    },
    {
     "name": "stdout",
     "output_type": "stream",
     "text": [
      "Successfully Converted\n"
     ]
    }
   ],
   "source": [
    "from pdf2docx import Converter\n",
    "pdf_file = '/Users/dhruvrao/Downloads/Invoice.pdf'\n",
    "docx_file = '/Users/dhruvrao/Downloads/converted_invoice.docx'\n",
    "cv = Converter(pdf_file)\n",
    "cv.convert(docx_file)\n",
    "cv.close()\n",
    "print(\"Successfully Converted\")"
   ]
  },
  {
   "cell_type": "code",
   "execution_count": null,
   "id": "706134f3-9773-4d38-9c8f-aa3432aa70be",
   "metadata": {},
   "outputs": [],
   "source": []
  }
 ],
 "metadata": {
  "kernelspec": {
   "display_name": "Python [conda env:base] *",
   "language": "python",
   "name": "conda-base-py"
  },
  "language_info": {
   "codemirror_mode": {
    "name": "ipython",
    "version": 3
   },
   "file_extension": ".py",
   "mimetype": "text/x-python",
   "name": "python",
   "nbconvert_exporter": "python",
   "pygments_lexer": "ipython3",
   "version": "3.11.5"
  }
 },
 "nbformat": 4,
 "nbformat_minor": 5
}
